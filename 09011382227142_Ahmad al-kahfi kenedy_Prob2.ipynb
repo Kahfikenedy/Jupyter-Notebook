{
 "cells": [
  {
   "cell_type": "code",
   "execution_count": 6,
   "id": "8bd94473",
   "metadata": {},
   "outputs": [
    {
     "name": "stdout",
     "output_type": "stream",
     "text": [
      "  Nama =  Ahmad Al-Kahfi Kenedy \n",
      " Kelas =  Sku2B \n",
      "   Nim =  09011382227142\n"
     ]
    }
   ],
   "source": [
    "Nama = \"Ahmad Al-Kahfi Kenedy\"\n",
    "Kelas = \"Sku2B\"\n",
    "Nim = \"09011382227142\"\n",
    "\n",
    "print(\"  Nama = \",Nama, \"\\n\", \"Kelas = \",Kelas, \"\\n\", \"  Nim = \", Nim,)"
   ]
  },
  {
   "cell_type": "code",
   "execution_count": 62,
   "id": "7495d9d8",
   "metadata": {},
   "outputs": [],
   "source": [
    "import pandas as pd\n",
    "import numpy as np\n",
    "import matplotlib.pyplot as plt\n",
    "from numpy import percentile\n",
    "import seaborn as sns\n",
    "%matplotlib inline\n",
    "sns.set(color_codes=True)"
   ]
  },
  {
   "cell_type": "code",
   "execution_count": 63,
   "id": "7493998e",
   "metadata": {},
   "outputs": [],
   "source": [
    "df = pd.read_excel(\"Data Covid19.xlsx\")"
   ]
  },
  {
   "cell_type": "code",
   "execution_count": 64,
   "id": "ac90a7c1",
   "metadata": {},
   "outputs": [
    {
     "data": {
      "text/html": [
       "<div>\n",
       "<style scoped>\n",
       "    .dataframe tbody tr th:only-of-type {\n",
       "        vertical-align: middle;\n",
       "    }\n",
       "\n",
       "    .dataframe tbody tr th {\n",
       "        vertical-align: top;\n",
       "    }\n",
       "\n",
       "    .dataframe thead th {\n",
       "        text-align: right;\n",
       "    }\n",
       "</style>\n",
       "<table border=\"1\" class=\"dataframe\">\n",
       "  <thead>\n",
       "    <tr style=\"text-align: right;\">\n",
       "      <th></th>\n",
       "      <th>Country/region</th>\n",
       "      <th>Confirmed</th>\n",
       "      <th>Deaths</th>\n",
       "      <th>Recovered</th>\n",
       "    </tr>\n",
       "  </thead>\n",
       "  <tbody>\n",
       "    <tr>\n",
       "      <th>0</th>\n",
       "      <td>Australia</td>\n",
       "      <td>15</td>\n",
       "      <td>0</td>\n",
       "      <td>08:00:00</td>\n",
       "    </tr>\n",
       "    <tr>\n",
       "      <th>1</th>\n",
       "      <td>Belgium</td>\n",
       "      <td>1</td>\n",
       "      <td>0</td>\n",
       "      <td>00:00:00</td>\n",
       "    </tr>\n",
       "    <tr>\n",
       "      <th>2</th>\n",
       "      <td>Cambodia</td>\n",
       "      <td>1</td>\n",
       "      <td>0</td>\n",
       "      <td>01:00:00</td>\n",
       "    </tr>\n",
       "    <tr>\n",
       "      <th>3</th>\n",
       "      <td>Canada</td>\n",
       "      <td>7</td>\n",
       "      <td>0</td>\n",
       "      <td>01:00:00</td>\n",
       "    </tr>\n",
       "    <tr>\n",
       "      <th>4</th>\n",
       "      <td>China</td>\n",
       "      <td>70 466</td>\n",
       "      <td>1765</td>\n",
       "      <td>10 748.0</td>\n",
       "    </tr>\n",
       "    <tr>\n",
       "      <th>5</th>\n",
       "      <td>Egypt</td>\n",
       "      <td>1</td>\n",
       "      <td>0</td>\n",
       "      <td>00:00:00</td>\n",
       "    </tr>\n",
       "    <tr>\n",
       "      <th>6</th>\n",
       "      <td>Finland</td>\n",
       "      <td>1</td>\n",
       "      <td>0</td>\n",
       "      <td>01:00:00</td>\n",
       "    </tr>\n",
       "    <tr>\n",
       "      <th>7</th>\n",
       "      <td>France</td>\n",
       "      <td>12</td>\n",
       "      <td>1</td>\n",
       "      <td>04:00:00</td>\n",
       "    </tr>\n",
       "    <tr>\n",
       "      <th>8</th>\n",
       "      <td>Germany</td>\n",
       "      <td>16</td>\n",
       "      <td>0</td>\n",
       "      <td>01:00:00</td>\n",
       "    </tr>\n",
       "    <tr>\n",
       "      <th>9</th>\n",
       "      <td>Hong Kong</td>\n",
       "      <td>57</td>\n",
       "      <td>1</td>\n",
       "      <td>02:00:00</td>\n",
       "    </tr>\n",
       "    <tr>\n",
       "      <th>10</th>\n",
       "      <td>India</td>\n",
       "      <td>3</td>\n",
       "      <td>0</td>\n",
       "      <td>03:00:00</td>\n",
       "    </tr>\n",
       "    <tr>\n",
       "      <th>11</th>\n",
       "      <td>Italy</td>\n",
       "      <td>3</td>\n",
       "      <td>0</td>\n",
       "      <td>00:00:00</td>\n",
       "    </tr>\n",
       "    <tr>\n",
       "      <th>12</th>\n",
       "      <td>Japan</td>\n",
       "      <td>59</td>\n",
       "      <td>1</td>\n",
       "      <td>12:00:00</td>\n",
       "    </tr>\n",
       "    <tr>\n",
       "      <th>13</th>\n",
       "      <td>Macau</td>\n",
       "      <td>10</td>\n",
       "      <td>0</td>\n",
       "      <td>05:00:00</td>\n",
       "    </tr>\n",
       "    <tr>\n",
       "      <th>14</th>\n",
       "      <td>Malaysia</td>\n",
       "      <td>22</td>\n",
       "      <td>0</td>\n",
       "      <td>07:00:00</td>\n",
       "    </tr>\n",
       "    <tr>\n",
       "      <th>15</th>\n",
       "      <td>Nepal</td>\n",
       "      <td>1</td>\n",
       "      <td>0</td>\n",
       "      <td>01:00:00</td>\n",
       "    </tr>\n",
       "    <tr>\n",
       "      <th>16</th>\n",
       "      <td>Philippines</td>\n",
       "      <td>3</td>\n",
       "      <td>1</td>\n",
       "      <td>01:00:00</td>\n",
       "    </tr>\n",
       "    <tr>\n",
       "      <th>17</th>\n",
       "      <td>Russia</td>\n",
       "      <td>2</td>\n",
       "      <td>0</td>\n",
       "      <td>02:00:00</td>\n",
       "    </tr>\n",
       "    <tr>\n",
       "      <th>18</th>\n",
       "      <td>Singapore</td>\n",
       "      <td>75</td>\n",
       "      <td>0</td>\n",
       "      <td>18:00:00</td>\n",
       "    </tr>\n",
       "    <tr>\n",
       "      <th>19</th>\n",
       "      <td>South Korea</td>\n",
       "      <td>29</td>\n",
       "      <td>0</td>\n",
       "      <td>09:00:00</td>\n",
       "    </tr>\n",
       "    <tr>\n",
       "      <th>20</th>\n",
       "      <td>Spain</td>\n",
       "      <td>2</td>\n",
       "      <td>0</td>\n",
       "      <td>02:00:00</td>\n",
       "    </tr>\n",
       "    <tr>\n",
       "      <th>21</th>\n",
       "      <td>Sri Lanka</td>\n",
       "      <td>1</td>\n",
       "      <td>0</td>\n",
       "      <td>01:00:00</td>\n",
       "    </tr>\n",
       "    <tr>\n",
       "      <th>22</th>\n",
       "      <td>Sweden</td>\n",
       "      <td>1</td>\n",
       "      <td>0</td>\n",
       "      <td>00:00:00</td>\n",
       "    </tr>\n",
       "    <tr>\n",
       "      <th>23</th>\n",
       "      <td>Taiwan</td>\n",
       "      <td>20</td>\n",
       "      <td>1</td>\n",
       "      <td>02:00:00</td>\n",
       "    </tr>\n",
       "    <tr>\n",
       "      <th>24</th>\n",
       "      <td>UK</td>\n",
       "      <td>9</td>\n",
       "      <td>0</td>\n",
       "      <td>08:00:00</td>\n",
       "    </tr>\n",
       "    <tr>\n",
       "      <th>25</th>\n",
       "      <td>US</td>\n",
       "      <td>15</td>\n",
       "      <td>0</td>\n",
       "      <td>03:00:00</td>\n",
       "    </tr>\n",
       "    <tr>\n",
       "      <th>26</th>\n",
       "      <td>United Arab Emirates</td>\n",
       "      <td>9</td>\n",
       "      <td>0</td>\n",
       "      <td>04:00:00</td>\n",
       "    </tr>\n",
       "    <tr>\n",
       "      <th>27</th>\n",
       "      <td>Vietnam</td>\n",
       "      <td>16</td>\n",
       "      <td>0</td>\n",
       "      <td>07:00:00</td>\n",
       "    </tr>\n",
       "  </tbody>\n",
       "</table>\n",
       "</div>"
      ],
      "text/plain": [
       "           Country/region Confirmed  Deaths Recovered\n",
       "0               Australia        15       0  08:00:00\n",
       "1                 Belgium         1       0  00:00:00\n",
       "2                Cambodia         1       0  01:00:00\n",
       "3                  Canada         7       0  01:00:00\n",
       "4                   China    70 466    1765  10 748.0\n",
       "5                  Egypt          1       0  00:00:00\n",
       "6                Finland          1       0  01:00:00\n",
       "7                  France        12       1  04:00:00\n",
       "8                Germany         16       0  01:00:00\n",
       "9              Hong Kong         57       1  02:00:00\n",
       "10                 India          3       0  03:00:00\n",
       "11                 Italy          3       0  00:00:00\n",
       "12                 Japan         59       1  12:00:00\n",
       "13                 Macau         10       0  05:00:00\n",
       "14              Malaysia         22       0  07:00:00\n",
       "15                 Nepal          1       0  01:00:00\n",
       "16           Philippines          3       1  01:00:00\n",
       "17                 Russia         2       0  02:00:00\n",
       "18             Singapore         75       0  18:00:00\n",
       "19           South Korea         29       0  09:00:00\n",
       "20                 Spain          2       0  02:00:00\n",
       "21             Sri Lanka          1       0  01:00:00\n",
       "22                Sweden          1       0  00:00:00\n",
       "23                 Taiwan        20       1  02:00:00\n",
       "24                    UK          9       0  08:00:00\n",
       "25                    US         15       0  03:00:00\n",
       "26  United Arab Emirates          9       0  04:00:00\n",
       "27               Vietnam         16       0  07:00:00"
      ]
     },
     "execution_count": 64,
     "metadata": {},
     "output_type": "execute_result"
    }
   ],
   "source": [
    "df"
   ]
  },
  {
   "cell_type": "code",
   "execution_count": 65,
   "id": "a64fcf71",
   "metadata": {},
   "outputs": [],
   "source": [
    "#Confirmed data covid19\n",
    "import numpy as np\n",
    "Data=[15, 1, 1, 7, 70466, 1, 1, 12, 16, 57, 3, 3, 59, 10, 22, 1, 3, 2, 75, 29, 2, 1, 1, 20, 9, 15, 9, 16]"
   ]
  },
  {
   "cell_type": "code",
   "execution_count": 66,
   "id": "50a10e07",
   "metadata": {},
   "outputs": [
    {
     "data": {
      "text/plain": [
       "2530.6071428571427"
      ]
     },
     "execution_count": 66,
     "metadata": {},
     "output_type": "execute_result"
    }
   ],
   "source": [
    "np.mean(Data)"
   ]
  },
  {
   "cell_type": "code",
   "execution_count": 67,
   "id": "445f791e",
   "metadata": {},
   "outputs": [
    {
     "data": {
      "text/plain": [
       "array([  15,    1,    1,    7, 4930,    1,    1,   12,   16,   57,    3,\n",
       "          3,   59,   10,   22,    1,    3,    2,   75,   29,    2,    1,\n",
       "          1,   20,    9,   15,    9,   16], dtype=int16)"
      ]
     },
     "execution_count": 67,
     "metadata": {},
     "output_type": "execute_result"
    }
   ],
   "source": [
    "np.short(Data)"
   ]
  },
  {
   "cell_type": "code",
   "execution_count": 68,
   "id": "ccf8cd60",
   "metadata": {},
   "outputs": [
    {
     "data": {
      "text/plain": [
       "9.0"
      ]
     },
     "execution_count": 68,
     "metadata": {},
     "output_type": "execute_result"
    }
   ],
   "source": [
    "np.median(Data)"
   ]
  },
  {
   "cell_type": "code",
   "execution_count": 69,
   "id": "2030ee61",
   "metadata": {},
   "outputs": [
    {
     "data": {
      "image/png": "[encoded data removed]",
      "text/plain": [
       "<Figure size 640x480 with 1 Axes>"
      ]
     },
     "metadata": {},
     "output_type": "display_data"
    }
   ],
   "source": [
    "import matplotlib.pyplot as plt\n",
    "x = [15, 1, 1, 7, 70466, 1, 1, 12, 16, 57, 3, 3, 59, 10, 22, 1, 3, 2, 75, 29, 2, 1, 1, 20, 9, 15, 9, 16]\n",
    "plt.hist(x, bins=20)\n",
    "plt.title('Confirmed data covid19')\n",
    "plt.show()"
   ]
  },
  {
   "cell_type": "code",
   "execution_count": 70,
   "id": "46711294",
   "metadata": {},
   "outputs": [
    {
     "data": {
      "image/png": "[encoded data removed]",
      "text/plain": [
       "<Figure size 640x480 with 1 Axes>"
      ]
     },
     "metadata": {},
     "output_type": "display_data"
    }
   ],
   "source": [
    "import matplotlib.pyplot as plt\n",
    "fig = plt.figure()\n",
    "ax = fig.add_axes([0,0,1,1])\n",
    "ax.axis('equal')\n",
    "Stock = ['Australia','Belgium','Cambodia','Canada','China','Egypt' ,'Finland' ,'France','Germany' ,'Hong Kong' ,'India' ,'Italy' ,'Japan' ,'Macau' ,'Malaysia' ,'Nepal' ,'Philippines' ,'Russia','Singapore' ,'South Korea' ,'Spain' ,'Sri Lanka' ,'Sweden' ,'Taiwan','UK' ,'US' ,'United Arab Emirates' ,'Vietnam' ]\n",
    "Sold = [15, 1, 1, 7, 70466, 1, 1, 12, 16, 57, 3, 3, 59, 10, 22, 1, 3, 2, 75, 29, 2, 1, 1, 20, 9, 15, 9, 16]\n",
    "ax.pie(Sold,labels=Stock,autopct='%1.2f%%')\n",
    "plt.show()"
   ]
  },
  {
   "cell_type": "markdown",
   "id": "39364563",
   "metadata": {},
   "source": [
    "Bisa kita lihat kedua tabel di atas bahwa menunjukan china adalah yang paling banyak terkonfirmasi covid19"
   ]
  },
  {
   "cell_type": "code",
   "execution_count": 71,
   "id": "c6c0eb3f",
   "metadata": {},
   "outputs": [],
   "source": [
    "#covid19 death data\n",
    "import numpy as np\n",
    "Data=[0,0,0,0,1765,0,0,1,0,1,0,0,1,0,0,0,1,0,0,0,0,0,0,1,0,0,0,0]"
   ]
  },
  {
   "cell_type": "code",
   "execution_count": 72,
   "id": "dc0aa942",
   "metadata": {},
   "outputs": [
    {
     "data": {
      "text/plain": [
       "63.214285714285715"
      ]
     },
     "execution_count": 72,
     "metadata": {},
     "output_type": "execute_result"
    }
   ],
   "source": [
    "np.mean(Data)"
   ]
  },
  {
   "cell_type": "code",
   "execution_count": 73,
   "id": "6743c25d",
   "metadata": {},
   "outputs": [
    {
     "data": {
      "text/plain": [
       "array([   0,    0,    0,    0, 1765,    0,    0,    1,    0,    1,    0,\n",
       "          0,    1,    0,    0,    0,    1,    0,    0,    0,    0,    0,\n",
       "          0,    1,    0,    0,    0,    0], dtype=int16)"
      ]
     },
     "execution_count": 73,
     "metadata": {},
     "output_type": "execute_result"
    }
   ],
   "source": [
    "np.short(Data)    "
   ]
  },
  {
   "cell_type": "code",
   "execution_count": 74,
   "id": "c32790e7",
   "metadata": {},
   "outputs": [
    {
     "data": {
      "text/plain": [
       "0.0"
      ]
     },
     "execution_count": 74,
     "metadata": {},
     "output_type": "execute_result"
    }
   ],
   "source": [
    "np.median(Data)"
   ]
  },
  {
   "cell_type": "code",
   "execution_count": 75,
   "id": "daf20fcd",
   "metadata": {},
   "outputs": [
    {
     "data": {
      "image/png": "[encoded data removed]",
      "text/plain": [
       "<Figure size 640x480 with 1 Axes>"
      ]
     },
     "metadata": {},
     "output_type": "display_data"
    }
   ],
   "source": [
    "import matplotlib.pyplot as plt\n",
    "x = [0,0,0,0,1765,0,0,1,0,1,0,0,1,0,0,0,1,0,0,0,0,0,0,1,0,0,0,0]\n",
    "plt.hist(x, bins=20)\n",
    "plt.title('covid19 death data')\n",
    "plt.show()"
   ]
  },
  {
   "cell_type": "code",
   "execution_count": 76,
   "id": "566d5037",
   "metadata": {},
   "outputs": [
    {
     "data": {
      "image/png": "[encoded data removed]",
      "text/plain": [
       "<Figure size 640x480 with 1 Axes>"
      ]
     },
     "metadata": {},
     "output_type": "display_data"
    }
   ],
   "source": [
    "import matplotlib.pyplot as plt\n",
    "fig = plt.figure()\n",
    "ax = fig.add_axes([0,0,1,1])\n",
    "ax.axis('equal')\n",
    "Stock = ['Australia','Belgium','Cambodia','Canada','China','Egypt' ,'Finland' ,'France','Germany' ,'Hong Kong' ,'India' ,'Italy' ,'Japan' ,'Macau' ,'Malaysia' ,'Nepal' ,'Philippines' ,'Russia','Singapore' ,'South Korea' ,'Spain' ,'Sri Lanka' ,'Sweden' ,'Taiwan','UK' ,'US' ,'United Arab Emirates' ,'Vietnam' ]\n",
    "Sold = [15, 1, 1, 7, 70466, 1, 1, 12, 16, 57, 3, 3, 59, 10, 22, 1, 3, 2, 75, 29, 2, 1, 1, 20, 9, 15, 9, 16]\n",
    "ax.pie(Sold,labels=Stock,autopct='%1.2f%%')\n",
    "plt.show()"
   ]
  },
  {
   "cell_type": "markdown",
   "id": "ddcaa33a",
   "metadata": {},
   "source": [
    "Bisa kita lihat kedua tabel di atas menunjukan bahwa data kematian yang paling banyak adalah china"
   ]
  },
  {
   "cell_type": "code",
   "execution_count": 77,
   "id": "0e741b17",
   "metadata": {},
   "outputs": [],
   "source": [
    "#covid19 recovered data\n",
    "import numpy as np\n",
    "Data=[8.0, 0.0, 1.0, 1.0, 10748.0, 0.0, 1.0, 4.0, 1.0, 2.0, 3.0, 0.0, 12.0, 5.0, 7.0, 1.0, 1.0,2.0,18.0,9.0,2.0,1.0,0.0,2.0,8.0,3.0,4.0,7.0]"
   ]
  },
  {
   "cell_type": "code",
   "execution_count": 78,
   "id": "1fdab276",
   "metadata": {},
   "outputs": [
    {
     "data": {
      "text/plain": [
       "387.5357142857143"
      ]
     },
     "execution_count": 78,
     "metadata": {},
     "output_type": "execute_result"
    }
   ],
   "source": [
    "np.mean(Data)"
   ]
  },
  {
   "cell_type": "code",
   "execution_count": 79,
   "id": "1cfe3d6c",
   "metadata": {},
   "outputs": [
    {
     "data": {
      "text/plain": [
       "array([    8,     0,     1,     1, 10748,     0,     1,     4,     1,\n",
       "           2,     3,     0,    12,     5,     7,     1,     1,     2,\n",
       "          18,     9,     2,     1,     0,     2,     8,     3,     4,\n",
       "           7], dtype=int16)"
      ]
     },
     "execution_count": 79,
     "metadata": {},
     "output_type": "execute_result"
    }
   ],
   "source": [
    "np.short(Data)"
   ]
  },
  {
   "cell_type": "code",
   "execution_count": 80,
   "id": "ae57e8e7",
   "metadata": {},
   "outputs": [
    {
     "data": {
      "text/plain": [
       "2.0"
      ]
     },
     "execution_count": 80,
     "metadata": {},
     "output_type": "execute_result"
    }
   ],
   "source": [
    "np.median(Data)"
   ]
  },
  {
   "cell_type": "code",
   "execution_count": 81,
   "id": "8499d902",
   "metadata": {},
   "outputs": [
    {
     "data": {
      "image/png": "[encoded data removed]",
      "text/plain": [
       "<Figure size 640x480 with 1 Axes>"
      ]
     },
     "metadata": {},
     "output_type": "display_data"
    }
   ],
   "source": [
    "import matplotlib.pyplot as plt\n",
    "x = [8.0, 0.0, 1.0, 1.0, 10748.0, 0.0, 1.0, 4.0, 1.0, 2.0, 3.0, 0.0, 12.0, 5.0, 7.0, 1.0, 1.0,2.0,18.0,9.0,2.0,1.0,0.0,2.0,8.0,3.0,4.0,7.0]\n",
    "plt.hist(x, bins=20)\n",
    "plt.title('covid19 recovered data')\n",
    "plt.show()"
   ]
  },
  {
   "cell_type": "code",
   "execution_count": 2,
   "id": "df304a24",
   "metadata": {},
   "outputs": [
    {
     "data": {
      "image/png": "[encoded data removed]",
      "text/plain": [
       "<Figure size 640x480 with 1 Axes>"
      ]
     },
     "metadata": {},
     "output_type": "display_data"
    }
   ],
   "source": [
    "import matplotlib.pyplot as plt\n",
    "fig = plt.figure()\n",
    "ax = fig.add_axes([0,0,1,1])\n",
    "ax.axis('equal')\n",
    "Stock = ['Australia','Belgium','Cambodia','Canada','China','Egypt' ,'Finland' ,'France','Germany' ,'Hong Kong' ,'India' ,'Italy' ,'Japan' ,'Macau' ,'Malaysia' ,'Nepal' ,'Philippines' ,'Russia','Singapore' ,'South Korea' ,'Spain' ,'Sri Lanka' ,'Sweden' ,'Taiwan','UK' ,'US' ,'United Arab Emirates' ,'Vietnam' ]\n",
    "Sold = [8.0, 0.0, 1.0, 1.0, 10748.0, 0.0, 1.0, 4.0, 1.0, 2.0, 3.0, 0.0, 12.0, 5.0, 7.0, 1.0, 1.0,2.0,18.0,9.0,2.0,1.0,0.0,2.0,8.0,3.0,4.0,7.0]\n",
    "ax.pie(Sold,labels=Stock,autopct='%1.2f%%')\n",
    "plt.show()"
   ]
  },
  {
   "cell_type": "markdown",
   "id": "7bbdfb7a",
   "metadata": {},
   "source": [
    "Bisa kita lihat kedua tabel di atas untuk yang di pulihkan dari covid19 yang paling banyak adalah china"
   ]
  }
 ],
 "metadata": {
  "kernelspec": {
   "display_name": "Python 3 (ipykernel)",
   "language": "python",
   "name": "python3"
  },
  "language_info": {
   "codemirror_mode": {
    "name": "ipython",
    "version": 3
   },
   "file_extension": ".py",
   "mimetype": "text/x-python",
   "name": "python",
   "nbconvert_exporter": "python",
   "pygments_lexer": "ipython3",
   "version": "3.9.13"
  }
 },
 "nbformat": 4,
 "nbformat_minor": 5
}
