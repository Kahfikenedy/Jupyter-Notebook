{
 "cells": [
  {
   "cell_type": "code",
   "execution_count": 1,
   "id": "b92ccd76",
   "metadata": {},
   "outputs": [
    {
     "name": "stdout",
     "output_type": "stream",
     "text": [
      "  Nama =  Ahmad Al-Kahfi Kenedy \n",
      " Kelas =  Sku2B \n",
      "   Nim =  09011382227142\n"
     ]
    }
   ],
   "source": [
    "Nama = \"Ahmad Al-Kahfi Kenedy\"\n",
    "Kelas = \"Sku2B\"\n",
    "Nim = \"09011382227142\"\n",
    "\n",
    "print(\"  Nama = \",Nama, \"\\n\", \"Kelas = \",Kelas, \"\\n\", \"  Nim = \", Nim,)"
   ]
  },
  {
   "cell_type": "code",
   "execution_count": 35,
   "id": "e5f6fbbe",
   "metadata": {},
   "outputs": [],
   "source": [
    "import pandas as pd\n",
    "import numpy as np\n",
    "import matplotlib.pyplot as plt\n",
    "from numpy import percentile\n",
    "import seaborn as sns\n",
    "%matplotlib inline\n",
    "sns.set(color_codes=True)"
   ]
  },
  {
   "cell_type": "code",
   "execution_count": 36,
   "id": "c6f182e8",
   "metadata": {},
   "outputs": [],
   "source": [
    "df = pd.read_excel(\"data penjualan mobil.xlsx\")"
   ]
  },
  {
   "cell_type": "code",
   "execution_count": 37,
   "id": "f613f331",
   "metadata": {},
   "outputs": [
    {
     "data": {
      "text/html": [
       "<div>\n",
       "<style scoped>\n",
       "    .dataframe tbody tr th:only-of-type {\n",
       "        vertical-align: middle;\n",
       "    }\n",
       "\n",
       "    .dataframe tbody tr th {\n",
       "        vertical-align: top;\n",
       "    }\n",
       "\n",
       "    .dataframe thead th {\n",
       "        text-align: right;\n",
       "    }\n",
       "</style>\n",
       "<table border=\"1\" class=\"dataframe\">\n",
       "  <thead>\n",
       "    <tr style=\"text-align: right;\">\n",
       "      <th></th>\n",
       "      <th>agya</th>\n",
       "      <th>fortuner</th>\n",
       "      <th>innova</th>\n",
       "      <th>brio</th>\n",
       "      <th>civic</th>\n",
       "    </tr>\n",
       "  </thead>\n",
       "  <tbody>\n",
       "    <tr>\n",
       "      <th>0</th>\n",
       "      <td>20</td>\n",
       "      <td>77</td>\n",
       "      <td>20</td>\n",
       "      <td>34</td>\n",
       "      <td>22</td>\n",
       "    </tr>\n",
       "    <tr>\n",
       "      <th>1</th>\n",
       "      <td>20</td>\n",
       "      <td>77</td>\n",
       "      <td>20</td>\n",
       "      <td>34</td>\n",
       "      <td>22</td>\n",
       "    </tr>\n",
       "    <tr>\n",
       "      <th>2</th>\n",
       "      <td>20</td>\n",
       "      <td>77</td>\n",
       "      <td>20</td>\n",
       "      <td>21</td>\n",
       "      <td>22</td>\n",
       "    </tr>\n",
       "    <tr>\n",
       "      <th>3</th>\n",
       "      <td>20</td>\n",
       "      <td>77</td>\n",
       "      <td>20</td>\n",
       "      <td>21</td>\n",
       "      <td>21</td>\n",
       "    </tr>\n",
       "    <tr>\n",
       "      <th>4</th>\n",
       "      <td>22</td>\n",
       "      <td>77</td>\n",
       "      <td>22</td>\n",
       "      <td>21</td>\n",
       "      <td>21</td>\n",
       "    </tr>\n",
       "    <tr>\n",
       "      <th>5</th>\n",
       "      <td>22</td>\n",
       "      <td>65</td>\n",
       "      <td>22</td>\n",
       "      <td>20</td>\n",
       "      <td>20</td>\n",
       "    </tr>\n",
       "    <tr>\n",
       "      <th>6</th>\n",
       "      <td>22</td>\n",
       "      <td>65</td>\n",
       "      <td>22</td>\n",
       "      <td>20</td>\n",
       "      <td>20</td>\n",
       "    </tr>\n",
       "    <tr>\n",
       "      <th>7</th>\n",
       "      <td>22</td>\n",
       "      <td>65</td>\n",
       "      <td>22</td>\n",
       "      <td>34</td>\n",
       "      <td>33</td>\n",
       "    </tr>\n",
       "    <tr>\n",
       "      <th>8</th>\n",
       "      <td>22</td>\n",
       "      <td>65</td>\n",
       "      <td>22</td>\n",
       "      <td>34</td>\n",
       "      <td>33</td>\n",
       "    </tr>\n",
       "    <tr>\n",
       "      <th>9</th>\n",
       "      <td>22</td>\n",
       "      <td>65</td>\n",
       "      <td>22</td>\n",
       "      <td>34</td>\n",
       "      <td>33</td>\n",
       "    </tr>\n",
       "    <tr>\n",
       "      <th>10</th>\n",
       "      <td>21</td>\n",
       "      <td>65</td>\n",
       "      <td>21</td>\n",
       "      <td>34</td>\n",
       "      <td>33</td>\n",
       "    </tr>\n",
       "    <tr>\n",
       "      <th>11</th>\n",
       "      <td>21</td>\n",
       "      <td>46</td>\n",
       "      <td>21</td>\n",
       "      <td>34</td>\n",
       "      <td>33</td>\n",
       "    </tr>\n",
       "    <tr>\n",
       "      <th>12</th>\n",
       "      <td>21</td>\n",
       "      <td>46</td>\n",
       "      <td>21</td>\n",
       "      <td>54</td>\n",
       "      <td>42</td>\n",
       "    </tr>\n",
       "    <tr>\n",
       "      <th>13</th>\n",
       "      <td>21</td>\n",
       "      <td>46</td>\n",
       "      <td>21</td>\n",
       "      <td>54</td>\n",
       "      <td>42</td>\n",
       "    </tr>\n",
       "    <tr>\n",
       "      <th>14</th>\n",
       "      <td>21</td>\n",
       "      <td>46</td>\n",
       "      <td>21</td>\n",
       "      <td>20</td>\n",
       "      <td>42</td>\n",
       "    </tr>\n",
       "    <tr>\n",
       "      <th>15</th>\n",
       "      <td>21</td>\n",
       "      <td>46</td>\n",
       "      <td>21</td>\n",
       "      <td>20</td>\n",
       "      <td>42</td>\n",
       "    </tr>\n",
       "    <tr>\n",
       "      <th>16</th>\n",
       "      <td>21</td>\n",
       "      <td>46</td>\n",
       "      <td>21</td>\n",
       "      <td>20</td>\n",
       "      <td>42</td>\n",
       "    </tr>\n",
       "    <tr>\n",
       "      <th>17</th>\n",
       "      <td>21</td>\n",
       "      <td>46</td>\n",
       "      <td>21</td>\n",
       "      <td>20</td>\n",
       "      <td>42</td>\n",
       "    </tr>\n",
       "    <tr>\n",
       "      <th>18</th>\n",
       "      <td>19</td>\n",
       "      <td>53</td>\n",
       "      <td>19</td>\n",
       "      <td>22</td>\n",
       "      <td>19</td>\n",
       "    </tr>\n",
       "    <tr>\n",
       "      <th>19</th>\n",
       "      <td>19</td>\n",
       "      <td>53</td>\n",
       "      <td>19</td>\n",
       "      <td>22</td>\n",
       "      <td>19</td>\n",
       "    </tr>\n",
       "    <tr>\n",
       "      <th>20</th>\n",
       "      <td>19</td>\n",
       "      <td>53</td>\n",
       "      <td>53</td>\n",
       "      <td>22</td>\n",
       "      <td>19</td>\n",
       "    </tr>\n",
       "    <tr>\n",
       "      <th>21</th>\n",
       "      <td>19</td>\n",
       "      <td>53</td>\n",
       "      <td>53</td>\n",
       "      <td>22</td>\n",
       "      <td>19</td>\n",
       "    </tr>\n",
       "    <tr>\n",
       "      <th>22</th>\n",
       "      <td>19</td>\n",
       "      <td>53</td>\n",
       "      <td>53</td>\n",
       "      <td>22</td>\n",
       "      <td>19</td>\n",
       "    </tr>\n",
       "    <tr>\n",
       "      <th>23</th>\n",
       "      <td>19</td>\n",
       "      <td>53</td>\n",
       "      <td>53</td>\n",
       "      <td>22</td>\n",
       "      <td>19</td>\n",
       "    </tr>\n",
       "    <tr>\n",
       "      <th>24</th>\n",
       "      <td>19</td>\n",
       "      <td>53</td>\n",
       "      <td>53</td>\n",
       "      <td>21</td>\n",
       "      <td>19</td>\n",
       "    </tr>\n",
       "    <tr>\n",
       "      <th>25</th>\n",
       "      <td>56</td>\n",
       "      <td>44</td>\n",
       "      <td>44</td>\n",
       "      <td>21</td>\n",
       "      <td>19</td>\n",
       "    </tr>\n",
       "    <tr>\n",
       "      <th>26</th>\n",
       "      <td>56</td>\n",
       "      <td>44</td>\n",
       "      <td>44</td>\n",
       "      <td>21</td>\n",
       "      <td>17</td>\n",
       "    </tr>\n",
       "    <tr>\n",
       "      <th>27</th>\n",
       "      <td>56</td>\n",
       "      <td>44</td>\n",
       "      <td>44</td>\n",
       "      <td>21</td>\n",
       "      <td>17</td>\n",
       "    </tr>\n",
       "    <tr>\n",
       "      <th>28</th>\n",
       "      <td>56</td>\n",
       "      <td>42</td>\n",
       "      <td>42</td>\n",
       "      <td>21</td>\n",
       "      <td>17</td>\n",
       "    </tr>\n",
       "    <tr>\n",
       "      <th>29</th>\n",
       "      <td>56</td>\n",
       "      <td>42</td>\n",
       "      <td>42</td>\n",
       "      <td>21</td>\n",
       "      <td>17</td>\n",
       "    </tr>\n",
       "    <tr>\n",
       "      <th>30</th>\n",
       "      <td>67</td>\n",
       "      <td>42</td>\n",
       "      <td>42</td>\n",
       "      <td>21</td>\n",
       "      <td>17</td>\n",
       "    </tr>\n",
       "    <tr>\n",
       "      <th>31</th>\n",
       "      <td>67</td>\n",
       "      <td>42</td>\n",
       "      <td>42</td>\n",
       "      <td>21</td>\n",
       "      <td>17</td>\n",
       "    </tr>\n",
       "    <tr>\n",
       "      <th>32</th>\n",
       "      <td>67</td>\n",
       "      <td>67</td>\n",
       "      <td>67</td>\n",
       "      <td>19</td>\n",
       "      <td>32</td>\n",
       "    </tr>\n",
       "    <tr>\n",
       "      <th>33</th>\n",
       "      <td>67</td>\n",
       "      <td>67</td>\n",
       "      <td>67</td>\n",
       "      <td>19</td>\n",
       "      <td>32</td>\n",
       "    </tr>\n",
       "    <tr>\n",
       "      <th>34</th>\n",
       "      <td>67</td>\n",
       "      <td>67</td>\n",
       "      <td>67</td>\n",
       "      <td>19</td>\n",
       "      <td>32</td>\n",
       "    </tr>\n",
       "    <tr>\n",
       "      <th>35</th>\n",
       "      <td>67</td>\n",
       "      <td>67</td>\n",
       "      <td>67</td>\n",
       "      <td>19</td>\n",
       "      <td>32</td>\n",
       "    </tr>\n",
       "    <tr>\n",
       "      <th>36</th>\n",
       "      <td>34</td>\n",
       "      <td>58</td>\n",
       "      <td>53</td>\n",
       "      <td>19</td>\n",
       "      <td>25</td>\n",
       "    </tr>\n",
       "    <tr>\n",
       "      <th>37</th>\n",
       "      <td>34</td>\n",
       "      <td>58</td>\n",
       "      <td>53</td>\n",
       "      <td>19</td>\n",
       "      <td>25</td>\n",
       "    </tr>\n",
       "    <tr>\n",
       "      <th>38</th>\n",
       "      <td>21</td>\n",
       "      <td>58</td>\n",
       "      <td>53</td>\n",
       "      <td>19</td>\n",
       "      <td>25</td>\n",
       "    </tr>\n",
       "    <tr>\n",
       "      <th>39</th>\n",
       "      <td>21</td>\n",
       "      <td>58</td>\n",
       "      <td>53</td>\n",
       "      <td>58</td>\n",
       "      <td>25</td>\n",
       "    </tr>\n",
       "    <tr>\n",
       "      <th>40</th>\n",
       "      <td>21</td>\n",
       "      <td>58</td>\n",
       "      <td>53</td>\n",
       "      <td>58</td>\n",
       "      <td>25</td>\n",
       "    </tr>\n",
       "    <tr>\n",
       "      <th>41</th>\n",
       "      <td>20</td>\n",
       "      <td>49</td>\n",
       "      <td>44</td>\n",
       "      <td>58</td>\n",
       "      <td>25</td>\n",
       "    </tr>\n",
       "    <tr>\n",
       "      <th>42</th>\n",
       "      <td>20</td>\n",
       "      <td>49</td>\n",
       "      <td>44</td>\n",
       "      <td>58</td>\n",
       "      <td>28</td>\n",
       "    </tr>\n",
       "    <tr>\n",
       "      <th>43</th>\n",
       "      <td>34</td>\n",
       "      <td>49</td>\n",
       "      <td>44</td>\n",
       "      <td>58</td>\n",
       "      <td>28</td>\n",
       "    </tr>\n",
       "    <tr>\n",
       "      <th>44</th>\n",
       "      <td>34</td>\n",
       "      <td>49</td>\n",
       "      <td>42</td>\n",
       "      <td>49</td>\n",
       "      <td>28</td>\n",
       "    </tr>\n",
       "    <tr>\n",
       "      <th>45</th>\n",
       "      <td>34</td>\n",
       "      <td>49</td>\n",
       "      <td>42</td>\n",
       "      <td>49</td>\n",
       "      <td>31</td>\n",
       "    </tr>\n",
       "    <tr>\n",
       "      <th>46</th>\n",
       "      <td>34</td>\n",
       "      <td>43</td>\n",
       "      <td>42</td>\n",
       "      <td>49</td>\n",
       "      <td>31</td>\n",
       "    </tr>\n",
       "    <tr>\n",
       "      <th>47</th>\n",
       "      <td>34</td>\n",
       "      <td>43</td>\n",
       "      <td>42</td>\n",
       "      <td>49</td>\n",
       "      <td>31</td>\n",
       "    </tr>\n",
       "    <tr>\n",
       "      <th>48</th>\n",
       "      <td>54</td>\n",
       "      <td>43</td>\n",
       "      <td>67</td>\n",
       "      <td>49</td>\n",
       "      <td>31</td>\n",
       "    </tr>\n",
       "    <tr>\n",
       "      <th>49</th>\n",
       "      <td>54</td>\n",
       "      <td>43</td>\n",
       "      <td>67</td>\n",
       "      <td>49</td>\n",
       "      <td>31</td>\n",
       "    </tr>\n",
       "  </tbody>\n",
       "</table>\n",
       "</div>"
      ],
      "text/plain": [
       "    agya  fortuner  innova  brio  civic\n",
       "0     20        77      20    34     22\n",
       "1     20        77      20    34     22\n",
       "2     20        77      20    21     22\n",
       "3     20        77      20    21     21\n",
       "4     22        77      22    21     21\n",
       "5     22        65      22    20     20\n",
       "6     22        65      22    20     20\n",
       "7     22        65      22    34     33\n",
       "8     22        65      22    34     33\n",
       "9     22        65      22    34     33\n",
       "10    21        65      21    34     33\n",
       "11    21        46      21    34     33\n",
       "12    21        46      21    54     42\n",
       "13    21        46      21    54     42\n",
       "14    21        46      21    20     42\n",
       "15    21        46      21    20     42\n",
       "16    21        46      21    20     42\n",
       "17    21        46      21    20     42\n",
       "18    19        53      19    22     19\n",
       "19    19        53      19    22     19\n",
       "20    19        53      53    22     19\n",
       "21    19        53      53    22     19\n",
       "22    19        53      53    22     19\n",
       "23    19        53      53    22     19\n",
       "24    19        53      53    21     19\n",
       "25    56        44      44    21     19\n",
       "26    56        44      44    21     17\n",
       "27    56        44      44    21     17\n",
       "28    56        42      42    21     17\n",
       "29    56        42      42    21     17\n",
       "30    67        42      42    21     17\n",
       "31    67        42      42    21     17\n",
       "32    67        67      67    19     32\n",
       "33    67        67      67    19     32\n",
       "34    67        67      67    19     32\n",
       "35    67        67      67    19     32\n",
       "36    34        58      53    19     25\n",
       "37    34        58      53    19     25\n",
       "38    21        58      53    19     25\n",
       "39    21        58      53    58     25\n",
       "40    21        58      53    58     25\n",
       "41    20        49      44    58     25\n",
       "42    20        49      44    58     28\n",
       "43    34        49      44    58     28\n",
       "44    34        49      42    49     28\n",
       "45    34        49      42    49     31\n",
       "46    34        43      42    49     31\n",
       "47    34        43      42    49     31\n",
       "48    54        43      67    49     31\n",
       "49    54        43      67    49     31"
      ]
     },
     "execution_count": 37,
     "metadata": {},
     "output_type": "execute_result"
    }
   ],
   "source": [
    "df"
   ]
  },
  {
   "cell_type": "code",
   "execution_count": 95,
   "id": "63a8454d",
   "metadata": {},
   "outputs": [
    {
     "data": {
      "text/plain": [
       "32.88"
      ]
     },
     "execution_count": 95,
     "metadata": {},
     "output_type": "execute_result"
    }
   ],
   "source": [
    "# Data umur-umur peminat mobil agya\n",
    "import numpy as np\n",
    "Data=[20,20,20,20,22,22,22,22,22,22,21,21,21,21,21,21,21,21,19,19,19,19,19,19,19,56,56,56,56,56,67,67,67,67,67,67,34,\n",
    "34,21,21,21,20,20,34,34,34,34,34,54,54]\n",
    "np.mean(Data)"
   ]
  },
  {
   "cell_type": "code",
   "execution_count": 126,
   "id": "86e926f5",
   "metadata": {},
   "outputs": [
    {
     "data": {
      "text/plain": [
       "array([20, 20, 20, 20, 22, 22, 22, 22, 22, 22, 21, 21, 21, 21, 21, 21, 21,\n",
       "       21, 19, 19, 53, 53, 53, 53, 53, 44, 44, 44, 42, 42, 42, 42, 67, 67,\n",
       "       67, 67, 53, 53, 53, 53, 53, 44, 44, 44, 42, 42, 42, 42, 67, 67],\n",
       "      dtype=int16)"
      ]
     },
     "execution_count": 126,
     "metadata": {},
     "output_type": "execute_result"
    }
   ],
   "source": [
    "np.short(Data)"
   ]
  },
  {
   "cell_type": "code",
   "execution_count": 47,
   "id": "607ed511",
   "metadata": {},
   "outputs": [
    {
     "data": {
      "text/plain": [
       "22.0"
      ]
     },
     "execution_count": 47,
     "metadata": {},
     "output_type": "execute_result"
    }
   ],
   "source": [
    "np.median(Data)"
   ]
  },
  {
   "cell_type": "code",
   "execution_count": 4,
   "id": "b866e57a",
   "metadata": {},
   "outputs": [
    {
     "data": {
      "image/png": "[encoded data removed]",
      "text/plain": [
       "<Figure size 640x480 with 1 Axes>"
      ]
     },
     "metadata": {},
     "output_type": "display_data"
    }
   ],
   "source": [
    "import matplotlib.pyplot as plt\n",
    "x = [20,20,20,20,22,22,22,22,22,22,21,21,21,21,21,21,21,21,19,19,19,19,19,19,19,56,56,56,56,56,67,67,67,67,67,67,34,\n",
    "34,21,21,21,20,20,34,34,34,34,34,54,54]\n",
    "plt.hist(x, bins=50)\n",
    "plt.show()"
   ]
  },
  {
   "cell_type": "markdown",
   "id": "cbc3ae31",
   "metadata": {},
   "source": [
    "Hasil dari yang ada di atas adalah, untuk tabel histogramnya dari peminat mobil agya menunjukan umur 20 adalah peminat yang paling banyak, dan untuk data mean nya adalah 32.88 dan median nya berjumlah 22.0"
   ]
  },
  {
   "cell_type": "code",
   "execution_count": 113,
   "id": "bf2fd03b",
   "metadata": {},
   "outputs": [
    {
     "data": {
      "text/plain": [
       "54.86"
      ]
     },
     "execution_count": 113,
     "metadata": {},
     "output_type": "execute_result"
    }
   ],
   "source": [
    "# Data umur-umur peminat mobil fortuner\n",
    "import numpy as np\n",
    "Data=[77,77,77,77,77,65,65,65,65,65,65,46,46,46,46,46,46,46,53,53,53,53,53,53,53,44,44,44,42,\n",
    "      42,42,42,67,67,67,67,58,58,58,58,58,49,49,49,49,49,43,43,43,43]\n",
    "np.mean(Data)"
   ]
  },
  {
   "cell_type": "code",
   "execution_count": 116,
   "id": "85cc619f",
   "metadata": {},
   "outputs": [
    {
     "data": {
      "text/plain": [
       "array([77, 77, 77, 77, 77, 65, 65, 65, 65, 65, 65, 46, 46, 46, 46, 46, 46,\n",
       "       46, 53, 53, 53, 53, 53, 53, 53, 44, 44, 44, 42, 42, 42, 42, 67, 67,\n",
       "       67, 67, 58, 58, 58, 58, 58, 49, 49, 49, 49, 49, 43, 43, 43, 43],\n",
       "      dtype=int16)"
      ]
     },
     "execution_count": 116,
     "metadata": {},
     "output_type": "execute_result"
    }
   ],
   "source": [
    "np.short(Data)"
   ]
  },
  {
   "cell_type": "code",
   "execution_count": 117,
   "id": "ee8165c1",
   "metadata": {},
   "outputs": [
    {
     "data": {
      "text/plain": [
       "53.0"
      ]
     },
     "execution_count": 117,
     "metadata": {},
     "output_type": "execute_result"
    }
   ],
   "source": [
    "np.median(Data)"
   ]
  },
  {
   "cell_type": "code",
   "execution_count": 131,
   "id": "7cb6b6c1",
   "metadata": {},
   "outputs": [
    {
     "data": {
      "image/png": "[encoded data removed]",
      "text/plain": [
       "<Figure size 640x480 with 1 Axes>"
      ]
     },
     "metadata": {},
     "output_type": "display_data"
    }
   ],
   "source": [
    "import matplotlib.pyplot as plt\n",
    "x = [77,77,77,77,77,65,65,65,65,65,65,46,46,46,46,46,46,46,53,53,53,53,53,53,53,44,44,44,42,\n",
    "      42,42,42,67,67,67,67,58,58,58,58,58,49,49,49,49,49,43,43,43,43]\n",
    "plt.hist(x, bins=50)\n",
    "plt.show()"
   ]
  },
  {
   "cell_type": "markdown",
   "id": "b9350440",
   "metadata": {},
   "source": [
    "Hasil dari yang ada di atas adalah, untuk tabel histogramnya dari peminat mobil fortuner menunjukan umur 45 sampai 55 adalah peminat yang paling banyak, dan untuk data mean nya adalah 54.86 dan median nya berjumlah 53.0"
   ]
  },
  {
   "cell_type": "code",
   "execution_count": 119,
   "id": "f51e298c",
   "metadata": {},
   "outputs": [
    {
     "data": {
      "text/plain": [
       "39.0"
      ]
     },
     "execution_count": 119,
     "metadata": {},
     "output_type": "execute_result"
    }
   ],
   "source": [
    "# Data umur-umur peminat mobil innova\n",
    "import numpy as np\n",
    "Data=[20,20,20,20,22,22,22,22,22,22,21,21,21,21,21,21,21,21,19,19,53,53,53,53,53,44,44,44,42,\n",
    "      42,42,42,67,67,67,67,53,53,53,53,53,44,44,44,42,42,42,42,67,67]\n",
    "np.mean(Data)"
   ]
  },
  {
   "cell_type": "code",
   "execution_count": 143,
   "id": "ec9f157b",
   "metadata": {},
   "outputs": [
    {
     "data": {
      "text/plain": [
       "array([22, 22, 22, 21, 21, 20, 20, 33, 33, 33, 33, 33, 42, 42, 42, 42, 42,\n",
       "       42, 19, 19, 19, 19, 19, 19, 19, 19, 17, 17, 17, 17, 17, 17, 32, 32,\n",
       "       32, 32, 25, 25, 25, 25, 25, 25, 28, 28, 28, 31, 31, 31, 31, 31],\n",
       "      dtype=int16)"
      ]
     },
     "execution_count": 143,
     "metadata": {},
     "output_type": "execute_result"
    }
   ],
   "source": [
    "np.short(Data)"
   ]
  },
  {
   "cell_type": "code",
   "execution_count": 146,
   "id": "f5687c3a",
   "metadata": {},
   "outputs": [
    {
     "data": {
      "text/plain": [
       "25.0"
      ]
     },
     "execution_count": 146,
     "metadata": {},
     "output_type": "execute_result"
    }
   ],
   "source": [
    "np.median(Data)"
   ]
  },
  {
   "cell_type": "code",
   "execution_count": 145,
   "id": "42dc095e",
   "metadata": {
    "scrolled": false
   },
   "outputs": [
    {
     "data": {
      "image/png": "[encoded data removed]",
      "text/plain": [
       "<Figure size 640x480 with 1 Axes>"
      ]
     },
     "metadata": {},
     "output_type": "display_data"
    }
   ],
   "source": [
    "import matplotlib.pyplot as pl\n",
    "x = [20,20,20,20,22,22,22,22,22,22,21,21,21,21,21,21,21,21,19,19,53,53,53,53,53,44,44,44,42,\n",
    "      42,42,42,67,67,67,67,53,53,53,53,53,44,44,44,42,42,42,42,67,67]\n",
    "plt.hist(x, bins=50)\n",
    "plt.show()"
   ]
  },
  {
   "cell_type": "markdown",
   "id": "ea5b47bc",
   "metadata": {},
   "source": [
    "Hasil dari yang ada di atas adalah, untuk tabel histogramnya dari peminat mobil innova menunjukan umur 50 sampai 60 adalah peminat yang paling banyak, dan untuk data mean nya adalah 39.0 dan median nya berjumlah 43.0"
   ]
  },
  {
   "cell_type": "code",
   "execution_count": 134,
   "id": "984d68b1",
   "metadata": {},
   "outputs": [
    {
     "data": {
      "text/plain": [
       "30.92"
      ]
     },
     "execution_count": 134,
     "metadata": {},
     "output_type": "execute_result"
    }
   ],
   "source": [
    "# Data umur-umur peminat mobil brio\n",
    "import numpy as np\n",
    "Data=[34,34,21,21,21,20,20,34,34,34,34,34,54,54,20,20,20,20,22,22,22,22,22,22,21,21,21,21,21,21,21,21,\n",
    "      19,19,19,19,19,19,19,58,58,58,58,58,49,49,49,49,49,49]\n",
    "np.mean(Data)"
   ]
  },
  {
   "cell_type": "code",
   "execution_count": 132,
   "id": "1b7a9791",
   "metadata": {},
   "outputs": [
    {
     "data": {
      "text/plain": [
       "array([20, 20, 20, 20, 22, 22, 22, 22, 22, 22, 21, 21, 21, 21, 21, 21, 21,\n",
       "       21, 19, 19, 53, 53, 53, 53, 53, 44, 44, 44, 42, 42, 42, 42, 67, 67,\n",
       "       67, 67, 53, 53, 53, 53, 53, 44, 44, 44, 42, 42, 42, 42, 67, 67],\n",
       "      dtype=int16)"
      ]
     },
     "execution_count": 132,
     "metadata": {},
     "output_type": "execute_result"
    }
   ],
   "source": [
    "np.short(Data)"
   ]
  },
  {
   "cell_type": "code",
   "execution_count": 133,
   "id": "283c94dd",
   "metadata": {},
   "outputs": [
    {
     "data": {
      "text/plain": [
       "42.0"
      ]
     },
     "execution_count": 133,
     "metadata": {},
     "output_type": "execute_result"
    }
   ],
   "source": [
    "np.median(Data)"
   ]
  },
  {
   "cell_type": "code",
   "execution_count": 135,
   "id": "6aaa5cee",
   "metadata": {},
   "outputs": [
    {
     "data": {
      "image/png": "[encoded data removed]",
      "text/plain": [
       "<Figure size 640x480 with 1 Axes>"
      ]
     },
     "metadata": {},
     "output_type": "display_data"
    }
   ],
   "source": [
    "import matplotlib.pyplot as pl\n",
    "x = [34,34,21,21,21,20,20,34,34,34,34,34,54,54,20,20,20,20,22,22,22,22,22,22,21,21,21,21,21,21,21,21,\n",
    "      19,19,19,19,19,19,19,58,58,58,58,58,49,49,49,49,49,49]\n",
    "plt.hist(x, bins=50)\n",
    "plt.show()"
   ]
  },
  {
   "cell_type": "markdown",
   "id": "4a18295d",
   "metadata": {},
   "source": [
    "Hasil dari yang ada di atas adalah, untuk tabel histogramnya dari peminat mobil Brio menunjukan umur 20 sampai 25adalah peminat yang paling banyak, dan untuk data mean nya adalah 30.92 dan nilai dari mediannya adalah 42.0"
   ]
  },
  {
   "cell_type": "code",
   "execution_count": 136,
   "id": "861a7196",
   "metadata": {},
   "outputs": [
    {
     "data": {
      "text/plain": [
       "26.72"
      ]
     },
     "execution_count": 136,
     "metadata": {},
     "output_type": "execute_result"
    }
   ],
   "source": [
    "# Data umur-umur peminat mobil civic\n",
    "import numpy as np\n",
    "Data5=[22,22,22,21,21,20,20,33,33,33,33,33,42,42,42,42,42,42,19,19,19,19,19,19,19,19,17,17,17,\n",
    "      17,17,17,32,32,32,32,25,25,25,25,25,25,28,28,28,31,31,31,31,31]\n",
    "np.mean(Data)"
   ]
  },
  {
   "cell_type": "code",
   "execution_count": 137,
   "id": "2a756a02",
   "metadata": {},
   "outputs": [
    {
     "data": {
      "text/plain": [
       "array([22, 22, 22, 21, 21, 20, 20, 33, 33, 33, 33, 33, 42, 42, 42, 42, 42,\n",
       "       42, 19, 19, 19, 19, 19, 19, 19, 19, 17, 17, 17, 17, 17, 17, 32, 32,\n",
       "       32, 32, 25, 25, 25, 25, 25, 25, 28, 28, 28, 31, 31, 31, 31, 31],\n",
       "      dtype=int16)"
      ]
     },
     "execution_count": 137,
     "metadata": {},
     "output_type": "execute_result"
    }
   ],
   "source": [
    "np.short(Data)"
   ]
  },
  {
   "cell_type": "code",
   "execution_count": 139,
   "id": "ab9515ff",
   "metadata": {},
   "outputs": [
    {
     "data": {
      "text/plain": [
       "25.0"
      ]
     },
     "execution_count": 139,
     "metadata": {},
     "output_type": "execute_result"
    }
   ],
   "source": [
    "np.median(Data)"
   ]
  },
  {
   "cell_type": "code",
   "execution_count": 140,
   "id": "7d08e535",
   "metadata": {},
   "outputs": [
    {
     "data": {
      "image/png": "[encoded data removed]",
      "text/plain": [
       "<Figure size 640x480 with 1 Axes>"
      ]
     },
     "metadata": {},
     "output_type": "display_data"
    }
   ],
   "source": [
    "import matplotlib.pyplot as pl\n",
    "x = [22,22,22,21,21,20,20,33,33,33,33,33,42,42,42,42,42,42,19,19,19,19,19,19,19,19,17,17,17,\n",
    "      17,17,17,32,32,32,32,25,25,25,25,25,25,28,28,28,31,31,31,31,31]\n",
    "plt.hist(x, bins=50)\n",
    "plt.show()"
   ]
  },
  {
   "cell_type": "markdown",
   "id": "4d1a9dd4",
   "metadata": {},
   "source": [
    "Hasil dari yang ada di atas adalah, untuk tabel histogramnya dari peminat mobil civic menunjukan umur 17 sampai 20 adalah peminat yang paling banyak, dan untuk data mean nya adalah 26.72 dan nilai dari mediannya adalah 25.0"
   ]
  },
  {
   "cell_type": "code",
   "execution_count": 147,
   "id": "06e0fc1d",
   "metadata": {},
   "outputs": [
    {
     "data": {
      "text/plain": [
       "19.0"
      ]
     },
     "execution_count": 147,
     "metadata": {},
     "output_type": "execute_result"
    }
   ],
   "source": [
    "np.quantile(Data,0.25)"
   ]
  },
  {
   "cell_type": "code",
   "execution_count": 148,
   "id": "88e6fbfd",
   "metadata": {},
   "outputs": [
    {
     "data": {
      "text/plain": [
       "32.0"
      ]
     },
     "execution_count": 148,
     "metadata": {},
     "output_type": "execute_result"
    }
   ],
   "source": [
    "np.quantile(Data, 0.75)"
   ]
  },
  {
   "cell_type": "code",
   "execution_count": 138,
   "id": "537c932c",
   "metadata": {},
   "outputs": [
    {
     "name": "stdout",
     "output_type": "stream",
     "text": [
      "agya        28.75\n",
      "fortuner    19.00\n",
      "innova      32.00\n",
      "brio        25.00\n",
      "civic       13.00\n",
      "dtype: float64\n"
     ]
    }
   ],
   "source": [
    "Q1 = df.quantile(0.25)\n",
    "Q3 = df.quantile(0.75)\n",
    "IQR = Q3-Q1\n",
    "print(IQR)"
   ]
  },
  {
   "cell_type": "code",
   "execution_count": 53,
   "id": "2ef2be68",
   "metadata": {},
   "outputs": [
    {
     "data": {
      "text/html": [
       "<div>\n",
       "<style scoped>\n",
       "    .dataframe tbody tr th:only-of-type {\n",
       "        vertical-align: middle;\n",
       "    }\n",
       "\n",
       "    .dataframe tbody tr th {\n",
       "        vertical-align: top;\n",
       "    }\n",
       "\n",
       "    .dataframe thead th {\n",
       "        text-align: right;\n",
       "    }\n",
       "</style>\n",
       "<table border=\"1\" class=\"dataframe\">\n",
       "  <thead>\n",
       "    <tr style=\"text-align: right;\">\n",
       "      <th></th>\n",
       "      <th>agya</th>\n",
       "      <th>fortuner</th>\n",
       "      <th>innova</th>\n",
       "      <th>brio</th>\n",
       "      <th>civic</th>\n",
       "    </tr>\n",
       "  </thead>\n",
       "  <tbody>\n",
       "    <tr>\n",
       "      <th>agya</th>\n",
       "      <td>1.000000</td>\n",
       "      <td>-0.230669</td>\n",
       "      <td>0.595026</td>\n",
       "      <td>-0.211018</td>\n",
       "      <td>-0.144280</td>\n",
       "    </tr>\n",
       "    <tr>\n",
       "      <th>fortuner</th>\n",
       "      <td>-0.230669</td>\n",
       "      <td>1.000000</td>\n",
       "      <td>-0.181954</td>\n",
       "      <td>-0.229343</td>\n",
       "      <td>-0.100069</td>\n",
       "    </tr>\n",
       "    <tr>\n",
       "      <th>innova</th>\n",
       "      <td>0.595026</td>\n",
       "      <td>-0.181954</td>\n",
       "      <td>1.000000</td>\n",
       "      <td>0.042695</td>\n",
       "      <td>-0.189198</td>\n",
       "    </tr>\n",
       "    <tr>\n",
       "      <th>brio</th>\n",
       "      <td>-0.211018</td>\n",
       "      <td>-0.229343</td>\n",
       "      <td>0.042695</td>\n",
       "      <td>1.000000</td>\n",
       "      <td>0.306602</td>\n",
       "    </tr>\n",
       "    <tr>\n",
       "      <th>civic</th>\n",
       "      <td>-0.144280</td>\n",
       "      <td>-0.100069</td>\n",
       "      <td>-0.189198</td>\n",
       "      <td>0.306602</td>\n",
       "      <td>1.000000</td>\n",
       "    </tr>\n",
       "  </tbody>\n",
       "</table>\n",
       "</div>"
      ],
      "text/plain": [
       "              agya  fortuner    innova      brio     civic\n",
       "agya      1.000000 -0.230669  0.595026 -0.211018 -0.144280\n",
       "fortuner -0.230669  1.000000 -0.181954 -0.229343 -0.100069\n",
       "innova    0.595026 -0.181954  1.000000  0.042695 -0.189198\n",
       "brio     -0.211018 -0.229343  0.042695  1.000000  0.306602\n",
       "civic    -0.144280 -0.100069 -0.189198  0.306602  1.000000"
      ]
     },
     "execution_count": 53,
     "metadata": {},
     "output_type": "execute_result"
    },
    {
     "data": {
      "image/png": "[encoded data removed]",
      "text/plain": [
       "<Figure size 1000x500 with 2 Axes>"
      ]
     },
     "metadata": {},
     "output_type": "display_data"
    }
   ],
   "source": [
    "plt.figure(figsize=(10,5))\n",
    "c= df.corr()\n",
    "sns.heatmap(c,cmap=\"BrBG\",annot=True)\n",
    "c"
   ]
  }
 ],
 "metadata": {
  "kernelspec": {
   "display_name": "Python 3 (ipykernel)",
   "language": "python",
   "name": "python3"
  },
  "language_info": {
   "codemirror_mode": {
    "name": "ipython",
    "version": 3
   },
   "file_extension": ".py",
   "mimetype": "text/x-python",
   "name": "python",
   "nbconvert_exporter": "python",
   "pygments_lexer": "ipython3",
   "version": "3.9.13"
  }
 },
 "nbformat": 4,
 "nbformat_minor": 5
}
